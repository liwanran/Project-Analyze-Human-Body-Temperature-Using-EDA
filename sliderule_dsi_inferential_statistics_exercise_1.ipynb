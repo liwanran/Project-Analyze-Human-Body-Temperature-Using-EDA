{
 "cells": [
  {
   "cell_type": "markdown",
   "metadata": {},
   "source": [
    "# What is the True Normal Human Body Temperature? \n",
    "\n",
    "#### Background\n",
    "\n",
    "The mean normal body temperature was held to be 37$^{\\circ}$C or 98.6$^{\\circ}$F for more than 120 years since it was first conceptualized and reported by Carl Wunderlich in a famous 1868 book. But, is this value statistically correct?"
   ]
  },
  {
   "cell_type": "markdown",
   "metadata": {},
   "source": [
    "<h3>Exercises</h3>\n",
    "\n",
    "<p>In this exercise, you will analyze a dataset of human body temperatures and employ the concepts of hypothesis testing, confidence intervals, and statistical significance.</p>\n",
    "\n",
    "<p>Answer the following questions <b>in this notebook below and submit to your Github account</b>.</p> \n",
    "\n",
    "<ol>\n",
    "<li>  Is the distribution of body temperatures normal? \n",
    "    <ul>\n",
    "    <li> Although this is not a requirement for the Central Limit Theorem to hold (read the introduction on Wikipedia's page about the CLT carefully: https://en.wikipedia.org/wiki/Central_limit_theorem), it gives us some peace of mind that the population may also be normally distributed if we assume that this sample is representative of the population.\n",
    "    <li> Think about the way you're going to check for the normality of the distribution. Graphical methods are usually used first, but there are also other ways: https://en.wikipedia.org/wiki/Normality_test\n",
    "    </ul>\n",
    "<li>  Is the sample size large? Are the observations independent?\n",
    "    <ul>\n",
    "    <li> Remember that this is a condition for the Central Limit Theorem, and hence the statistical tests we are using, to apply.\n",
    "    </ul>\n",
    "<li>  Is the true population mean really 98.6 degrees F?\n",
    "    <ul>\n",
    "    <li> First, try a bootstrap hypothesis test.\n",
    "    <li> Now, let's try frequentist statistical testing. Would you use a one-sample or two-sample test? Why?\n",
    "    <li> In this situation, is it appropriate to use the $t$ or $z$ statistic? \n",
    "    <li> Now try using the other test. How is the result be different? Why?\n",
    "    </ul>\n",
    "<li>  Draw a small sample of size 10 from the data and repeat both frequentist tests. \n",
    "    <ul>\n",
    "    <li> Which one is the correct one to use? \n",
    "    <li> What do you notice? What does this tell you about the difference in application of the $t$ and $z$ statistic?\n",
    "    </ul>\n",
    "<li>  At what temperature should we consider someone's temperature to be \"abnormal\"?\n",
    "    <ul>\n",
    "    <li> As in the previous example, try calculating everything using the boostrap approach, as well as the frequentist approach.\n",
    "    <li> Start by computing the margin of error and confidence interval. When calculating the confidence interval, keep in mind that you should use the appropriate formula for one draw, and not N draws.\n",
    "    </ul>\n",
    "<li>  Is there a significant difference between males and females in normal temperature?\n",
    "    <ul>\n",
    "    <li> What testing approach did you use and why?\n",
    "    <li> Write a story with your conclusion in the context of the original problem.\n",
    "    </ul>\n",
    "</ol>\n",
    "\n",
    "You can include written notes in notebook cells using Markdown: \n",
    "   - In the control panel at the top, choose Cell > Cell Type > Markdown\n",
    "   - Markdown syntax: http://nestacms.com/docs/creating-content/markdown-cheat-sheet\n",
    "\n",
    "#### Resources\n",
    "\n",
    "+ Information and data sources: http://www.amstat.org/publications/jse/datasets/normtemp.txt, http://www.amstat.org/publications/jse/jse_data_archive.htm\n",
    "+ Markdown syntax: http://nestacms.com/docs/creating-content/markdown-cheat-sheet\n",
    "\n",
    "****"
   ]
  },
  {
   "cell_type": "code",
   "execution_count": 3,
   "metadata": {},
   "outputs": [
    {
     "data": {
      "text/html": [
       "<div>\n",
       "<style scoped>\n",
       "    .dataframe tbody tr th:only-of-type {\n",
       "        vertical-align: middle;\n",
       "    }\n",
       "\n",
       "    .dataframe tbody tr th {\n",
       "        vertical-align: top;\n",
       "    }\n",
       "\n",
       "    .dataframe thead th {\n",
       "        text-align: right;\n",
       "    }\n",
       "</style>\n",
       "<table border=\"1\" class=\"dataframe\">\n",
       "  <thead>\n",
       "    <tr style=\"text-align: right;\">\n",
       "      <th></th>\n",
       "      <th>temperature</th>\n",
       "      <th>gender</th>\n",
       "      <th>heart_rate</th>\n",
       "    </tr>\n",
       "  </thead>\n",
       "  <tbody>\n",
       "    <tr>\n",
       "      <th>0</th>\n",
       "      <td>99.3</td>\n",
       "      <td>F</td>\n",
       "      <td>68.0</td>\n",
       "    </tr>\n",
       "    <tr>\n",
       "      <th>1</th>\n",
       "      <td>98.4</td>\n",
       "      <td>F</td>\n",
       "      <td>81.0</td>\n",
       "    </tr>\n",
       "    <tr>\n",
       "      <th>2</th>\n",
       "      <td>97.8</td>\n",
       "      <td>M</td>\n",
       "      <td>73.0</td>\n",
       "    </tr>\n",
       "    <tr>\n",
       "      <th>3</th>\n",
       "      <td>99.2</td>\n",
       "      <td>F</td>\n",
       "      <td>66.0</td>\n",
       "    </tr>\n",
       "    <tr>\n",
       "      <th>4</th>\n",
       "      <td>98.0</td>\n",
       "      <td>F</td>\n",
       "      <td>73.0</td>\n",
       "    </tr>\n",
       "  </tbody>\n",
       "</table>\n",
       "</div>"
      ],
      "text/plain": [
       "   temperature gender  heart_rate\n",
       "0         99.3      F        68.0\n",
       "1         98.4      F        81.0\n",
       "2         97.8      M        73.0\n",
       "3         99.2      F        66.0\n",
       "4         98.0      F        73.0"
      ]
     },
     "execution_count": 3,
     "metadata": {},
     "output_type": "execute_result"
    }
   ],
   "source": [
    "import pandas as pd\n",
    "import matplotlib.pyplot as plt\n",
    "import numpy as np\n",
    "import pylab\n",
    "import seaborn as sns\n",
    "from scipy import stats\n",
    "import scipy.stats as stats\n",
    "df = pd.read_csv('human_body_temperature.csv')\n",
    "df.head()"
   ]
  },
  {
   "cell_type": "code",
   "execution_count": 4,
   "metadata": {},
   "outputs": [],
   "source": [
    "# Your work here."
   ]
  },
  {
   "cell_type": "markdown",
   "metadata": {},
   "source": [
    "# 1. Is the distribution of body temperatures normal?\n",
    "## We use the 3 methods below and determined it's normal distribution."
   ]
  },
  {
   "cell_type": "code",
   "execution_count": 5,
   "metadata": {
    "scrolled": false
   },
   "outputs": [
    {
     "data": {
      "image/png": "[encoded data removed]",
      "text/plain": [
       "<Figure size 432x288 with 1 Axes>"
      ]
     },
     "metadata": {
      "needs_background": "light"
     },
     "output_type": "display_data"
    }
   ],
   "source": [
    "# Method 1: qq plot\n",
    "temp = df.temperature\n",
    "stats.probplot(temp, dist='norm', plot=pylab)\n",
    "pylab.title('Normal QQ Plot')\n",
    "pylab.show()"
   ]
  },
  {
   "cell_type": "code",
   "execution_count": 6,
   "metadata": {
    "scrolled": false
   },
   "outputs": [
    {
     "data": {
      "image/png": "[encoded data removed]",
      "text/plain": [
       "<Figure size 432x288 with 2 Axes>"
      ]
     },
     "metadata": {
      "needs_background": "light"
     },
     "output_type": "display_data"
    }
   ],
   "source": [
    "# Method 2: using a boxplot and seaborn to plot the dataset, obeserving that it's normal distribution.\n",
    "## Create a diagram with 2 plots: a boxplot & a histogram. \n",
    "fig, (boxplot, histogram) = plt.subplots(2, sharex=True, gridspec_kw={'height_ratios': (.15, .85)})\n",
    "sns.boxplot(temp, ax=boxplot)\n",
    "sns.distplot(temp, ax=histogram)\n",
    "_ = plt.xlabel('Temperature (F)')\n",
    "_ = plt.ylabel('PDF')\n",
    "_ = plt.title('Distribution of Body Temperature')\n",
    "\n",
    "## Remove xlabel for the boxplot. Otherwise the title would overlap with xlabel of boxplot.\n",
    "_ = boxplot.set(xlabel='')"
   ]
  },
  {
   "cell_type": "code",
   "execution_count": 7,
   "metadata": {},
   "outputs": [],
   "source": [
    "# Method 3: use cumulative distribution diagram and observed it's normal distribution.\n",
    "mean = np.mean(temp)\n",
    "std = np.std(temp)\n",
    "# Simulate a random sample (an array) with a sample size of 10000.\n",
    "samples = np.random.normal(mean, std, size=10000)\n",
    "def ecdf(data):\n",
    "    n = len(data)\n",
    "    x = np.sort(data)\n",
    "    y = np.arange(1, n+1)/n\n",
    "    return x, y\n",
    "x, y = ecdf(temp)\n",
    "x_theor, y_theor = ecdf(samples)"
   ]
  },
  {
   "cell_type": "code",
   "execution_count": 8,
   "metadata": {
    "scrolled": true
   },
   "outputs": [
    {
     "data": {
      "image/png": "[encoded data removed]",
      "text/plain": [
       "<Figure size 432x288 with 1 Axes>"
      ]
     },
     "metadata": {
      "needs_background": "light"
     },
     "output_type": "display_data"
    }
   ],
   "source": [
    "_ = plt.plot(x_theor, y_theor)\n",
    "_ = plt.plot(x, y, marker='.', linestyle='none')\n",
    "_ = plt.title('Cumulative Distribution of Body Temperatures')\n",
    "_ = plt.xlabel('Temperature (F)')\n",
    "_ = plt.ylabel('CDF')\n",
    "_ = plt.legend(('Normal Distribution', 'Empirical Data'), loc='center right')"
   ]
  },
  {
   "cell_type": "markdown",
   "metadata": {},
   "source": [
    "# 2. Is the sample size large? Are the observations independent?\n",
    "The sample size is 130, which is larger than what is required to be large in Central Limit Theorem, 30. The observations are considered independent as each individual's body temperature are independent of each other."
   ]
  },
  {
   "cell_type": "code",
   "execution_count": 9,
   "metadata": {},
   "outputs": [
    {
     "data": {
      "text/plain": [
       "130"
      ]
     },
     "execution_count": 9,
     "metadata": {},
     "output_type": "execute_result"
    }
   ],
   "source": [
    "len(temp)"
   ]
  },
  {
   "cell_type": "markdown",
   "metadata": {},
   "source": [
    "# 3. Is the true population mean really 98.6 degrees F?\n",
    "## Would you use a one-sample or two-sample test? Why? \n",
    "## In this situation, is it appropriate to use the  𝑡 or  𝑧 statistic? Now try using the other test. How is the result be different? Why?\n",
    "$H_0$ Null Hypothesis: the true population mean is 98.6 degrees F.\n",
    "<br>$H_A$ Alternative Hypothesis: the true population mean is not 98.6 degrees F.\n",
    "<br>Significance level: 95% Confidence.\n",
    "\n",
    "-  It's best to use one-sample test for Frequentist statistical testing, as we are testing a single value. We'll use t-statistic. Even thought the sample size > 30, we only know the sample standard deviation, but not the population standard devidation.\n",
    "\n",
    "-  Results below show that p-value < significance level of 0.01. Therefore, we can reject the null hypothesis.\n",
    "\n",
    "-  When we use z-test, the z-statistic is very close to t-statistic. Its p-value is also very low."
   ]
  },
  {
   "cell_type": "code",
   "execution_count": 10,
   "metadata": {},
   "outputs": [
    {
     "data": {
      "text/plain": [
       "0.0"
      ]
     },
     "execution_count": 10,
     "metadata": {},
     "output_type": "execute_result"
    }
   ],
   "source": [
    "# 1) Bootstrap hypothesis test\n",
    "size = 100000\n",
    "bs_replicates = np.empty(size)\n",
    "data = np.random.choice(temp, len(temp))\n",
    "for i in range(100000):\n",
    "    bs_replicates[i] = np.mean(data)\n",
    "    \n",
    "# Calculate fraction of replicates that are equal to 98.6\n",
    "p = np.sum(bs_replicates == 98.6) / size\n",
    "p"
   ]
  },
  {
   "cell_type": "markdown",
   "metadata": {},
   "source": [
    "As the p-value for the bootstrap hypothesis test is 0.0, we reject the null hypothesis."
   ]
  },
  {
   "cell_type": "code",
   "execution_count": 11,
   "metadata": {},
   "outputs": [
    {
     "name": "stdout",
     "output_type": "stream",
     "text": [
      "Sample mean: 98.24923076923078\n",
      "Sample standard deviation: 0.7303577789050377\n",
      "Standard error of mean: 0.06430441683789101\n"
     ]
    }
   ],
   "source": [
    "# see the results of a one-sample test.\n",
    "print('Sample mean:', mean)\n",
    "print('Sample standard deviation:', std)\n",
    "sem = std/np.sqrt(129)\n",
    "print('Standard error of mean:', sem)"
   ]
  },
  {
   "cell_type": "code",
   "execution_count": 12,
   "metadata": {},
   "outputs": [
    {
     "name": "stdout",
     "output_type": "stream",
     "text": [
      "Confidence interval of 95%: 98.12319411222852 - 98.37526742623304\n"
     ]
    }
   ],
   "source": [
    "lower = mean - 1.96*sem\n",
    "upper = mean + 1.96*sem\n",
    "print('Confidence interval of 95%:', lower,'-', upper)"
   ]
  },
  {
   "cell_type": "markdown",
   "metadata": {},
   "source": [
    "As 98.6 doesn't lie within the confidence level, we reject the null hypothesis."
   ]
  },
  {
   "cell_type": "code",
   "execution_count": 13,
   "metadata": {
    "scrolled": true
   },
   "outputs": [
    {
     "name": "stdout",
     "output_type": "stream",
     "text": [
      "t statistics: -5.4548232923645195\n",
      "p-value: 2.4106320415561276e-07\n"
     ]
    }
   ],
   "source": [
    "# Use of t-test\n",
    "from scipy.stats import ttest_1samp\n",
    "t, p_t = ttest_1samp(temp, popmean=98.6)\n",
    "print('t statistics:', t)\n",
    "print('p-value:',p_t)"
   ]
  },
  {
   "cell_type": "markdown",
   "metadata": {},
   "source": [
    "Since the p-value of the t-test is smaller than 0.01, we can reject the null hypothesis."
   ]
  },
  {
   "cell_type": "code",
   "execution_count": 14,
   "metadata": {
    "scrolled": true
   },
   "outputs": [
    {
     "name": "stdout",
     "output_type": "stream",
     "text": [
      "z-statistics: -5.454823292364079\n",
      "p-value: 4.90215701411338e-08\n"
     ]
    }
   ],
   "source": [
    "# Use a different method of z-test.\n",
    "z = (mean - 98.6)/sem\n",
    "p_z = stats.norm.cdf(z) * 2\n",
    "print('z-statistics:', z)\n",
    "print('p-value:', p_z)"
   ]
  },
  {
   "cell_type": "markdown",
   "metadata": {},
   "source": [
    "Since the p-value of the z-test distribution is extremely smaller than 0.01, we can reject the null hypothesis.\n",
    "In each of the test above, the p-value < 0.01. Therefore, the null hypothesis is rejected."
   ]
  },
  {
   "cell_type": "markdown",
   "metadata": {},
   "source": [
    "## 4. Draw a small sample of size 10 from the data and repeat both frequentist tests.\n",
    "-  Which one is the correct one to use?\n",
    "-  What do you notice? What does this tell you about the difference in application of the  𝑡\n",
    "t\n",
    "  and  𝑧\n",
    "z\n",
    "  statistic?"
   ]
  },
  {
   "cell_type": "code",
   "execution_count": 15,
   "metadata": {},
   "outputs": [
    {
     "data": {
      "text/plain": [
       "array([98.8, 98. , 98.8, 97.7, 99.3, 99. , 96.4, 98.8, 99.3, 96.8])"
      ]
     },
     "execution_count": 15,
     "metadata": {},
     "output_type": "execute_result"
    }
   ],
   "source": [
    "# 4. Draw a sample of size 10\n",
    "sample = np.random.choice(temp, size=10)\n",
    "sample"
   ]
  },
  {
   "cell_type": "code",
   "execution_count": 16,
   "metadata": {},
   "outputs": [
    {
     "name": "stdout",
     "output_type": "stream",
     "text": [
      "p-value of t-test: 0.3661023389900475\n",
      "p-value of z-test: 0.34124477763445293\n"
     ]
    }
   ],
   "source": [
    "# Results of one-sample t-test.\n",
    "tt,p_tt = ttest_1samp(sample, popmean=98.6)\n",
    "\n",
    "# Results of one-sample z-test\n",
    "from statsmodels.stats.weightstats import ztest\n",
    "zz,p_zz = ztest(sample, value=98.6)\n",
    "\n",
    "print('p-value of t-test:', p_tt)\n",
    "print('p-value of z-test:', p_zz)"
   ]
  },
  {
   "cell_type": "markdown",
   "metadata": {},
   "source": [
    "The correct test to use for a smaller sample size of 10 should be t-test. z-test is better for a sample size larger than 30."
   ]
  },
  {
   "cell_type": "markdown",
   "metadata": {},
   "source": [
    "## 5. At what temperature should we consider someone's temperature to be \"abnormal\"?\n",
    "-  As in the previous example, try calculating everything using the boostrap approach, as well as the frequentist approach.\n",
    "-  Start by computing the margin of error and confidence interval. When calculating the confidence interval, keep in mind that you should use the appropriate formula for one draw, and not N draws."
   ]
  },
  {
   "cell_type": "code",
   "execution_count": 17,
   "metadata": {},
   "outputs": [
    {
     "name": "stdout",
     "output_type": "stream",
     "text": [
      "95% confidence interval: 98.2447709 - 98.25363626999997\n"
     ]
    }
   ],
   "source": [
    "# Use boostrap approach by using a 95% confidence interval\n",
    "bs_replicates = np.empty(10000)\n",
    "for i in range(10000):\n",
    "    bs_replicates[i] = np.mean(np.random.choice(df.temperature,size))\n",
    "bs_ci = np.percentile(bs_replicates,[2.5,97,5])\n",
    "print('95% confidence interval:',bs_ci[0],'-', bs_ci[1])"
   ]
  },
  {
   "cell_type": "code",
   "execution_count": 18,
   "metadata": {},
   "outputs": [
    {
     "name": "stdout",
     "output_type": "stream",
     "text": [
      "Margin of error: 1.431501246653874\n",
      "95% confidence level: 96.8177295225769 - 99.68073201588466\n"
     ]
    }
   ],
   "source": [
    "# Use Frequentist approach by using a 95% confidence leval\n",
    "moe = 1.96*std\n",
    "lower_bd = mean - moe\n",
    "upper_bd = mean + moe\n",
    "print('Margin of error:', moe)\n",
    "print('95% confidence level:', lower_bd, '-', upper_bd)"
   ]
  },
  {
   "cell_type": "markdown",
   "metadata": {},
   "source": [
    "Temperature is considered abnormal when it falls outside of the interval (96.82, 99.68)."
   ]
  },
  {
   "cell_type": "markdown",
   "metadata": {},
   "source": [
    "## 6. Is there a significant difference between males and females in normal temperature?\n",
    "-  What testing approach did you use and why?\n",
    "-  Write a story with your conclusion in the context of the original problem."
   ]
  },
  {
   "cell_type": "code",
   "execution_count": 26,
   "metadata": {},
   "outputs": [
    {
     "data": {
      "image/png": "[encoded data removed]",
      "text/plain": [
       "<Figure size 432x288 with 1 Axes>"
      ]
     },
     "metadata": {
      "needs_background": "light"
     },
     "output_type": "display_data"
    },
    {
     "name": "stdout",
     "output_type": "stream",
     "text": [
      "The difference between male and female body temperature: -0.289230769230727\n"
     ]
    }
   ],
   "source": [
    "male = df[df.gender == 'M'].temperature\n",
    "female = df[df.gender == 'F'].temperature\n",
    "\n",
    "# Plotting ECDF\n",
    "x_male, y_male = ecdf(male)\n",
    "x_female, y_female = ecdf(female)\n",
    "plt.plot(x_male, y_male, marker='.', linestyle='none', color='blue')\n",
    "plt.plot(x_female, y_female, marker='.', linestyle='none', color='red')\n",
    "plt.xlabel('Body Temperature in Farenheit')\n",
    "plt.ylabel('ECDF')\n",
    "plt.legend(('Male','Female'), loc='lower right')\n",
    "plt.title('Male vs Female: Human Body Temperature')\n",
    "plt.show()\n",
    "\n",
    "diff = np.mean(male) - np.mean(female)\n",
    "print('The difference between male and female body temperature:', diff)"
   ]
  },
  {
   "cell_type": "code",
   "execution_count": 29,
   "metadata": {},
   "outputs": [
    {
     "name": "stdout",
     "output_type": "stream",
     "text": [
      "p-value for the 2-sample t-test: 0.02393188312239561\n"
     ]
    }
   ],
   "source": [
    "# Use 2-sample test since we are testing 2 values.\n",
    "from scipy.stats import ttest_ind\n",
    "t_2, p_2 = ttest_ind(male, female)\n",
    "print('p-value for the 2-sample t-test:',p_2)"
   ]
  },
  {
   "cell_type": "markdown",
   "metadata": {},
   "source": [
    "$H_0$: There's no difference between male and female body temperature.\n",
    "<br>$H_A$: There's difference between male and femal body temperature.\n",
    "<br>Since the p-value is sufficiently smale, < 0.05, we reject the null hypothesis."
   ]
  }
 ],
 "metadata": {
  "kernelspec": {
   "display_name": "Python 3",
   "language": "python",
   "name": "python3"
  },
  "language_info": {
   "codemirror_mode": {
    "name": "ipython",
    "version": 3
   },
   "file_extension": ".py",
   "mimetype": "text/x-python",
   "name": "python",
   "nbconvert_exporter": "python",
   "pygments_lexer": "ipython3",
   "version": "3.7.3"
  }
 },
 "nbformat": 4,
 "nbformat_minor": 1
}
